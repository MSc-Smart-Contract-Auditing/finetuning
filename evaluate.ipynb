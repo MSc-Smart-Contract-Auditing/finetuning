{
 "cells": [
  {
   "cell_type": "code",
   "execution_count": 5,
   "metadata": {},
   "outputs": [],
   "source": [
    "model_name = 'unsloth/llama-3-8b-Instruct-bnb-4bit'\n",
    "model_alias = 'llama3-8b'"
   ]
  },
  {
   "cell_type": "code",
   "execution_count": 2,
   "metadata": {},
   "outputs": [
    {
     "name": "stdout",
     "output_type": "stream",
     "text": [
      "🦥 Unsloth: Will patch your computer to enable 2x faster free finetuning.\n"
     ]
    }
   ],
   "source": [
    "from unsloth import FastLanguageModel\n",
    "from datasets import load_dataset\n",
    "import pandas as pd\n",
    "from tqdm import tqdm\n",
    "import csv\n",
    "import re\n",
    "from pathlib import Path"
   ]
  },
  {
   "cell_type": "code",
   "execution_count": 3,
   "metadata": {},
   "outputs": [],
   "source": [
    "BASE_DIR = Path('/vol/bitbucket/kza23/finetuning')\n",
    "WORKD_DIR = BASE_DIR / model_alias"
   ]
  },
  {
   "cell_type": "code",
   "execution_count": 6,
   "metadata": {},
   "outputs": [
    {
     "name": "stdout",
     "output_type": "stream",
     "text": [
      "==((====))==  Unsloth 2024.8: Fast Llama patching. Transformers = 4.43.3.\n",
      "   \\\\   /|    GPU: NVIDIA A30 MIG 2g.12gb. Max memory: 11.688 GB. Platform = Linux.\n",
      "O^O/ \\_/ \\    Pytorch: 2.2.2+cu121. CUDA = 8.0. CUDA Toolkit = 12.1.\n",
      "\\        /    Bfloat16 = TRUE. FA [Xformers = 0.0.25.post1. FA2 = False]\n",
      " \"-____-\"     Free Apache license: http://github.com/unslothai/unsloth\n"
     ]
    }
   ],
   "source": [
    "max_seq_length = 20 # Choose any! We auto support RoPE Scaling internally!\n",
    "dtype = None # None for auto detection. Float16 for Tesla T4, V100, Bfloat16 for Ampere+\n",
    "load_in_4bit = True # Use 4bit quantization to reduce memory usage. Can be False.\n",
    "\n",
    "model, tokenizer = FastLanguageModel.from_pretrained(\n",
    "    model_name = model_name,\n",
    "    max_seq_length = max_seq_length,\n",
    "    dtype = dtype,\n",
    "    load_in_4bit = load_in_4bit,\n",
    ")\n",
    "\n",
    "FastLanguageModel.for_inference(model)"
   ]
  },
  {
   "cell_type": "code",
   "execution_count": 7,
   "metadata": {},
   "outputs": [
    {
     "data": {
      "text/html": [
       "<div>\n",
       "<style scoped>\n",
       "    .dataframe tbody tr th:only-of-type {\n",
       "        vertical-align: middle;\n",
       "    }\n",
       "\n",
       "    .dataframe tbody tr th {\n",
       "        vertical-align: top;\n",
       "    }\n",
       "\n",
       "    .dataframe thead th {\n",
       "        text-align: right;\n",
       "    }\n",
       "</style>\n",
       "<table border=\"1\" class=\"dataframe\">\n",
       "  <thead>\n",
       "    <tr style=\"text-align: right;\">\n",
       "      <th></th>\n",
       "      <th>output</th>\n",
       "      <th>real</th>\n",
       "    </tr>\n",
       "  </thead>\n",
       "  <tbody>\n",
       "    <tr>\n",
       "      <th>0</th>\n",
       "      <td>The vulnerability is in the `netPrimeDebtChang...</td>\n",
       "      <td>The `repayAccountPrimeDebtAtSettlement()` func...</td>\n",
       "    </tr>\n",
       "    <tr>\n",
       "      <th>1</th>\n",
       "      <td>The vulnerability is in the `claimableUnlocked...</td>\n",
       "      <td>The `lockCapital` mechanism in the ProtectionP...</td>\n",
       "    </tr>\n",
       "    <tr>\n",
       "      <th>2</th>\n",
       "      <td>The vulnerability is in the `_update` function...</td>\n",
       "      <td>The vulnerability occurs when the `_invariant`...</td>\n",
       "    </tr>\n",
       "    <tr>\n",
       "      <th>3</th>\n",
       "      <td>The codeblock contains a vulnerability in the ...</td>\n",
       "      <td>There is no vulnearbility</td>\n",
       "    </tr>\n",
       "    <tr>\n",
       "      <th>4</th>\n",
       "      <td>The vulnerability is in the `_credit` function...</td>\n",
       "      <td>The vulnerability arises when the account bein...</td>\n",
       "    </tr>\n",
       "    <tr>\n",
       "      <th>...</th>\n",
       "      <td>...</td>\n",
       "      <td>...</td>\n",
       "    </tr>\n",
       "    <tr>\n",
       "      <th>432</th>\n",
       "      <td>The vulnerability is in the `require` statemen...</td>\n",
       "      <td>There is no vulnearbility</td>\n",
       "    </tr>\n",
       "    <tr>\n",
       "      <th>433</th>\n",
       "      <td>The vulnerability is in the `getPriceUSD` func...</td>\n",
       "      <td>The StableOracleWBTC contract relies on a BTC/...</td>\n",
       "    </tr>\n",
       "    <tr>\n",
       "      <th>434</th>\n",
       "      <td>The vulnerability is in the `MigrateWithdrawal...</td>\n",
       "      <td>The `MigrateWithdrawal` function in the `migra...</td>\n",
       "    </tr>\n",
       "    <tr>\n",
       "      <th>435</th>\n",
       "      <td>The vulnerability is in the `addLiquidity` fun...</td>\n",
       "      <td>The createMarket transaction lacks a crucial e...</td>\n",
       "    </tr>\n",
       "    <tr>\n",
       "      <th>436</th>\n",
       "      <td>The codeblock contains a vulnerability in the ...</td>\n",
       "      <td>There is no vulnearbility</td>\n",
       "    </tr>\n",
       "  </tbody>\n",
       "</table>\n",
       "<p>437 rows × 2 columns</p>\n",
       "</div>"
      ],
      "text/plain": [
       "                                                output  \\\n",
       "0    The vulnerability is in the `netPrimeDebtChang...   \n",
       "1    The vulnerability is in the `claimableUnlocked...   \n",
       "2    The vulnerability is in the `_update` function...   \n",
       "3    The codeblock contains a vulnerability in the ...   \n",
       "4    The vulnerability is in the `_credit` function...   \n",
       "..                                                 ...   \n",
       "432  The vulnerability is in the `require` statemen...   \n",
       "433  The vulnerability is in the `getPriceUSD` func...   \n",
       "434  The vulnerability is in the `MigrateWithdrawal...   \n",
       "435  The vulnerability is in the `addLiquidity` fun...   \n",
       "436  The codeblock contains a vulnerability in the ...   \n",
       "\n",
       "                                                  real  \n",
       "0    The `repayAccountPrimeDebtAtSettlement()` func...  \n",
       "1    The `lockCapital` mechanism in the ProtectionP...  \n",
       "2    The vulnerability occurs when the `_invariant`...  \n",
       "3                            There is no vulnearbility  \n",
       "4    The vulnerability arises when the account bein...  \n",
       "..                                                 ...  \n",
       "432                          There is no vulnearbility  \n",
       "433  The StableOracleWBTC contract relies on a BTC/...  \n",
       "434  The `MigrateWithdrawal` function in the `migra...  \n",
       "435  The createMarket transaction lacks a crucial e...  \n",
       "436                          There is no vulnearbility  \n",
       "\n",
       "[437 rows x 2 columns]"
      ]
     },
     "execution_count": 7,
     "metadata": {},
     "output_type": "execute_result"
    }
   ],
   "source": [
    "results = pd.read_csv(f\"{model_alias}-descriptions.csv\")\n",
    "results.loc[results[\"real\"].isnull(), 'real'] = \"There is no vulnearbility\"\n",
    "results"
   ]
  },
  {
   "cell_type": "code",
   "execution_count": 29,
   "metadata": {},
   "outputs": [],
   "source": [
    "with open(WORK_DIR/'prompts/evaluation.txt', mode='r') as f:\n",
    "    eval_prompt = f.read()\n",
    "\n",
    "split_token = eval_prompt.split('\\n')[-2]\n",
    "\n",
    "criteria = []\n",
    "for idx in range(1, 4):\n",
    "    with open(WORK_DIR/f'prompts/criterion{idx}.txt', mode='r') as f:\n",
    "        criteria.append(f.read())\n"
   ]
  },
  {
   "cell_type": "code",
   "execution_count": 30,
   "metadata": {},
   "outputs": [
    {
     "name": "stdout",
     "output_type": "stream",
     "text": [
      "<|begin_of_text|><|start_header_id|>system<|end_header_id|>\n",
      "You are given 2 smart-contract audits written by a professional auditor and a student.\n",
      "You are assigned a single criterion as a part of a larger audit.\n",
      "Your task is to determine wether this criterion is satisfied or not.\n",
      "\n",
      "First analyze wether the criterion is met or not, without outputing a final verdict.\n",
      "Only once you have output your reasoning, provide a final verdict by outputing FAIL or PASS - nothing else is allowed.\n",
      "In cases where the crietrion is partially met you should determine wether FAIL or PASS would be a more accurate verdict in the specific case.\n",
      "Stick to this formatting:\n",
      "Reasoning: ...\n",
      "Verdict: PASS/FAIL\n",
      "\n",
      "<|start_header_id|>user<|end_header_id|>\n",
      "Criterion:\n",
      "{}\n",
      "\n",
      "Professional audit:\n",
      "{}\n",
      "\n",
      "Student audit:\n",
      "{}\n",
      "<|start_header_id|>assistant<|end_header_id|>\n",
      "Reasoning:\n",
      "\n",
      "Reasoning:\n",
      "Fulfilled if the two audits describe the same vulnerability. This is about the nature of vulnerability, rather than the specifics in the code.\n",
      "Fulfilled if the student describes the same functionality or the same part of the code as the professional auditor. This is about the location of the vulnerability rather than its nature.\n",
      "Fulfilled if the two audits describe the same attacking strategy, even if the students' strategy lacks the same level of detail as yours. Here the actual vulnerability is not important - if the strategy is the same this criterion is fulfilled.\n"
     ]
    }
   ],
   "source": [
    "print(eval_prompt)\n",
    "print(split_token)\n",
    "for cirterion in criteria:\n",
    "    print(cirterion)"
   ]
  },
  {
   "cell_type": "code",
   "execution_count": 77,
   "metadata": {},
   "outputs": [],
   "source": [
    "def run_criteria(query):\n",
    "    ret_reasoning = ''\n",
    "    verdicts = []\n",
    "    for idx, criterion in enumerate(criteria):\n",
    "        format_input = query.format(criterion).replace('{{', '{').replace('}}', '}')\n",
    "        inputs = tokenizer(format_input, return_tensors=\"pt\", truncation=True).to(\"cuda\")\n",
    "        output_tokens = model.generate(\n",
    "            **inputs,\n",
    "            max_new_tokens=512,\n",
    "            pad_token_id=tokenizer.pad_token_id,\n",
    "            use_cache = True\n",
    "        )\n",
    "\n",
    "        decoded_output = tokenizer.decode(\n",
    "            output_tokens[0],\n",
    "            skip_special_tokens=True,\n",
    "            pad_token_id=tokenizer.pad_token_id,\n",
    "        )\n",
    "\n",
    "        result = decoded_output.split(f\"{split_token}\\n\")[1].strip()\n",
    "        parts = result.split('Verdict: ')\n",
    "        if len(parts) == 2:\n",
    "            reasoning, verdict = parts\n",
    "        else:\n",
    "            verdict = \"N/A\"\n",
    "            reasoning = parts[0]\n",
    "\n",
    "        ret_reasoning += f'Criterion {idx+1}:\\n{reasoning.strip()}\\n'\n",
    "        verdicts.append(verdict.strip())\n",
    "    return verdicts, ret_reasoning\n",
    "\n",
    "def run_query(data, query, show_tqdm=True):\n",
    "    queries = data.apply(lambda row: query.format(\n",
    "        \"{}\",\n",
    "        row['real'].replace('\\\\n', '\\n').replace('{', '{{').replace('}', '}}'),\n",
    "        row['output'].replace('\\\\n', '\\n').replace('{', '{{').replace('}', '}}'),\n",
    "    ), axis=1)\n",
    "\n",
    "    queries = queries[88:]\n",
    "\n",
    "    if show_tqdm:\n",
    "        iterator = tqdm(enumerate(queries), total=len(queries))\n",
    "    else:\n",
    "        iterator = enumerate(queries)\n",
    "\n",
    "    for idx, query in iterator:\n",
    "        real_contains_vuln = data.iloc[idx][\"real\"] != \"There is no vulnearbility\"\n",
    "        output_contains_vuln = data.iloc[idx][\"output\"] != \"There is no vulnearbility\"\n",
    "\n",
    "        if real_contains_vuln != output_contains_vuln:\n",
    "            yield [\"FAIL\", \"FAIL\", \"FAIL\", \"FAIL\", \"Criterion 0: FAIL\\\\n One of the descriptions does not contain a vulnerability.\"]\n",
    "            continue\n",
    "\n",
    "        if not real_contains_vuln and not output_contains_vuln:\n",
    "            yield [\"PASS\", \"PASS\", \"PASS\", \"PASS\", \"No vulnerabilities to compare.\"]\n",
    "            continue\n",
    "\n",
    "\n",
    "        verdicts, reasoning = run_criteria(query)\n",
    "        verdicts = [\"PASS\"] + verdicts\n",
    "\n",
    "        yield verdicts + [reasoning.replace(\"\\n\", \"\\\\n\")]"
   ]
  },
  {
   "cell_type": "code",
   "execution_count": 78,
   "metadata": {},
   "outputs": [
    {
     "name": "stderr",
     "output_type": "stream",
     "text": [
      "100%|█████████████████████████████████████████████████████████████████████████████████████████| 349/349 [1:08:01<00:00, 11.69s/it]\n"
     ]
    }
   ],
   "source": [
    "with open(f\"{model_alias}-score.csv\", \"w\", newline=\"\") as f:\n",
    "    writer = csv.writer(f)\n",
    "    writer.writerow([\"id\", \"cr0\", \"cr1\", \"cr2\", \"cr3\", \"description\"])\n",
    "    for idx, result in enumerate(run_query(results, eval_prompt)):\n",
    "        writer.writerow([idx] + result)"
   ]
  },
  {
   "cell_type": "code",
   "execution_count": null,
   "metadata": {},
   "outputs": [],
   "source": []
  }
 ],
 "metadata": {
  "kernelspec": {
   "display_name": "Python 3 (ipykernel)",
   "language": "python",
   "name": "python3"
  }
 },
 "nbformat": 4,
 "nbformat_minor": 2
}
