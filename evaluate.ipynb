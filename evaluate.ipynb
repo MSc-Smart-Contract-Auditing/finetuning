{
 "cells": [
  {
   "cell_type": "code",
   "execution_count": 5,
   "metadata": {},
   "outputs": [],
   "source": [
    "model_name = 'unsloth/llama-3-8b-Instruct-bnb-4bit'\n",
    "model_alias = '0-shot-8b-instruct'"
   ]
  },
  {
   "cell_type": "code",
   "execution_count": 36,
   "metadata": {},
   "outputs": [
    {
     "name": "stderr",
     "output_type": "stream",
     "text": [
      "huggingface/tokenizers: The current process just got forked, after parallelism has already been used. Disabling parallelism to avoid deadlocks...\n",
      "To disable this warning, you can either:\n",
      "\t- Avoid using `tokenizers` before the fork if possible\n",
      "\t- Explicitly set the environment variable TOKENIZERS_PARALLELISM=(true | false)\n"
     ]
    },
    {
     "name": "stdout",
     "output_type": "stream",
     "text": [
      "Requirement already satisfied: pip in /vol/bitbucket/kza23/msc/lib/python3.10/site-packages (24.1.1)\n",
      "Collecting pip\n",
      "  Downloading pip-24.2-py3-none-any.whl.metadata (3.6 kB)\n",
      "Downloading pip-24.2-py3-none-any.whl (1.8 MB)\n",
      "\u001b[2K   \u001b[90m━━━━━━━━━━━━━━━━━━━━━━━━━━━━━━━━━━━━━━━━\u001b[0m \u001b[32m1.8/1.8 MB\u001b[0m \u001b[31m59.7 MB/s\u001b[0m eta \u001b[36m0:00:00\u001b[0m\n",
      "\u001b[?25hInstalling collected packages: pip\n",
      "  Attempting uninstall: pip\n",
      "    Found existing installation: pip 24.1.1\n",
      "    Uninstalling pip-24.1.1:\n",
      "      Successfully uninstalled pip-24.1.1\n",
      "Successfully installed pip-24.2\n"
     ]
    }
   ],
   "source": [
    "!pip install --upgrade pip"
   ]
  },
  {
   "cell_type": "code",
   "execution_count": 1,
   "metadata": {},
   "outputs": [
    {
     "name": "stdout",
     "output_type": "stream",
     "text": [
      "Collecting unsloth@ git+https://github.com/unslothai/unsloth.git (from unsloth[colab-new]@ git+https://github.com/unslothai/unsloth.git)\n",
      "  Cloning https://github.com/unslothai/unsloth.git to /tmp/pip-install-p_ggmp0q/unsloth_6e59fd93498d4106960052c457a33c08\n",
      "  Running command git clone --filter=blob:none --quiet https://github.com/unslothai/unsloth.git /tmp/pip-install-p_ggmp0q/unsloth_6e59fd93498d4106960052c457a33c08\n",
      "  Resolved https://github.com/unslothai/unsloth.git to commit a7bfbe7927ea75f959e1d7c84e7bf50945d405ff\n",
      "  Installing build dependencies ... \u001b[?25ldone\n",
      "\u001b[?25h  Getting requirements to build wheel ... \u001b[?25ldone\n",
      "\u001b[?25h  Preparing metadata (pyproject.toml) ... \u001b[?25ldone\n",
      "\u001b[?25hRequirement already satisfied: packaging in /vol/bitbucket/kza23/msc/lib/python3.10/site-packages (from unsloth@ git+https://github.com/unslothai/unsloth.git->unsloth[colab-new]@ git+https://github.com/unslothai/unsloth.git) (24.0)\n",
      "Requirement already satisfied: tyro in /vol/bitbucket/kza23/msc/lib/python3.10/site-packages (from unsloth@ git+https://github.com/unslothai/unsloth.git->unsloth[colab-new]@ git+https://github.com/unslothai/unsloth.git) (0.8.3)\n",
      "Requirement already satisfied: transformers>=4.43.2 in /vol/bitbucket/kza23/msc/lib/python3.10/site-packages (from unsloth@ git+https://github.com/unslothai/unsloth.git->unsloth[colab-new]@ git+https://github.com/unslothai/unsloth.git) (4.43.3)\n",
      "Requirement already satisfied: datasets>=2.16.0 in /vol/bitbucket/kza23/msc/lib/python3.10/site-packages (from unsloth@ git+https://github.com/unslothai/unsloth.git->unsloth[colab-new]@ git+https://github.com/unslothai/unsloth.git) (2.19.0)\n",
      "Requirement already satisfied: sentencepiece>=0.2.0 in /vol/bitbucket/kza23/msc/lib/python3.10/site-packages (from unsloth@ git+https://github.com/unslothai/unsloth.git->unsloth[colab-new]@ git+https://github.com/unslothai/unsloth.git) (0.2.0)\n",
      "Requirement already satisfied: tqdm in /vol/bitbucket/kza23/msc/lib/python3.10/site-packages (from unsloth@ git+https://github.com/unslothai/unsloth.git->unsloth[colab-new]@ git+https://github.com/unslothai/unsloth.git) (4.66.2)\n",
      "Requirement already satisfied: psutil in /vol/bitbucket/kza23/msc/lib/python3.10/site-packages (from unsloth@ git+https://github.com/unslothai/unsloth.git->unsloth[colab-new]@ git+https://github.com/unslothai/unsloth.git) (5.9.8)\n",
      "Requirement already satisfied: wheel>=0.42.0 in /vol/bitbucket/kza23/msc/lib/python3.10/site-packages (from unsloth@ git+https://github.com/unslothai/unsloth.git->unsloth[colab-new]@ git+https://github.com/unslothai/unsloth.git) (0.43.0)\n",
      "Requirement already satisfied: numpy in /vol/bitbucket/kza23/msc/lib/python3.10/site-packages (from unsloth@ git+https://github.com/unslothai/unsloth.git->unsloth[colab-new]@ git+https://github.com/unslothai/unsloth.git) (1.26.4)\n",
      "Requirement already satisfied: protobuf<4.0.0 in /vol/bitbucket/kza23/msc/lib/python3.10/site-packages (from unsloth@ git+https://github.com/unslothai/unsloth.git->unsloth[colab-new]@ git+https://github.com/unslothai/unsloth.git) (3.20.3)\n",
      "Requirement already satisfied: huggingface-hub in /vol/bitbucket/kza23/msc/lib/python3.10/site-packages (from unsloth@ git+https://github.com/unslothai/unsloth.git->unsloth[colab-new]@ git+https://github.com/unslothai/unsloth.git) (0.23.4)\n",
      "Requirement already satisfied: hf-transfer in /vol/bitbucket/kza23/msc/lib/python3.10/site-packages (from unsloth@ git+https://github.com/unslothai/unsloth.git->unsloth[colab-new]@ git+https://github.com/unslothai/unsloth.git) (0.1.6)\n",
      "Requirement already satisfied: filelock in /vol/bitbucket/kza23/msc/lib/python3.10/site-packages (from datasets>=2.16.0->unsloth@ git+https://github.com/unslothai/unsloth.git->unsloth[colab-new]@ git+https://github.com/unslothai/unsloth.git) (3.13.1)\n",
      "Requirement already satisfied: pyarrow>=12.0.0 in /vol/bitbucket/kza23/msc/lib/python3.10/site-packages (from datasets>=2.16.0->unsloth@ git+https://github.com/unslothai/unsloth.git->unsloth[colab-new]@ git+https://github.com/unslothai/unsloth.git) (16.0.0)\n",
      "Requirement already satisfied: pyarrow-hotfix in /vol/bitbucket/kza23/msc/lib/python3.10/site-packages (from datasets>=2.16.0->unsloth@ git+https://github.com/unslothai/unsloth.git->unsloth[colab-new]@ git+https://github.com/unslothai/unsloth.git) (0.6)\n",
      "Requirement already satisfied: dill<0.3.9,>=0.3.0 in /vol/bitbucket/kza23/msc/lib/python3.10/site-packages (from datasets>=2.16.0->unsloth@ git+https://github.com/unslothai/unsloth.git->unsloth[colab-new]@ git+https://github.com/unslothai/unsloth.git) (0.3.8)\n",
      "Requirement already satisfied: pandas in /vol/bitbucket/kza23/msc/lib/python3.10/site-packages (from datasets>=2.16.0->unsloth@ git+https://github.com/unslothai/unsloth.git->unsloth[colab-new]@ git+https://github.com/unslothai/unsloth.git) (2.2.2)\n",
      "Requirement already satisfied: requests>=2.19.0 in /vol/bitbucket/kza23/msc/lib/python3.10/site-packages (from datasets>=2.16.0->unsloth@ git+https://github.com/unslothai/unsloth.git->unsloth[colab-new]@ git+https://github.com/unslothai/unsloth.git) (2.31.0)\n",
      "Requirement already satisfied: xxhash in /vol/bitbucket/kza23/msc/lib/python3.10/site-packages (from datasets>=2.16.0->unsloth@ git+https://github.com/unslothai/unsloth.git->unsloth[colab-new]@ git+https://github.com/unslothai/unsloth.git) (3.4.1)\n",
      "Requirement already satisfied: multiprocess in /vol/bitbucket/kza23/msc/lib/python3.10/site-packages (from datasets>=2.16.0->unsloth@ git+https://github.com/unslothai/unsloth.git->unsloth[colab-new]@ git+https://github.com/unslothai/unsloth.git) (0.70.16)\n",
      "Requirement already satisfied: fsspec<=2024.3.1,>=2023.1.0 in /vol/bitbucket/kza23/msc/lib/python3.10/site-packages (from fsspec[http]<=2024.3.1,>=2023.1.0->datasets>=2.16.0->unsloth@ git+https://github.com/unslothai/unsloth.git->unsloth[colab-new]@ git+https://github.com/unslothai/unsloth.git) (2024.2.0)\n",
      "Requirement already satisfied: aiohttp in /vol/bitbucket/kza23/msc/lib/python3.10/site-packages (from datasets>=2.16.0->unsloth@ git+https://github.com/unslothai/unsloth.git->unsloth[colab-new]@ git+https://github.com/unslothai/unsloth.git) (3.9.5)\n",
      "Requirement already satisfied: pyyaml>=5.1 in /vol/bitbucket/kza23/msc/lib/python3.10/site-packages (from datasets>=2.16.0->unsloth@ git+https://github.com/unslothai/unsloth.git->unsloth[colab-new]@ git+https://github.com/unslothai/unsloth.git) (6.0.1)\n",
      "Requirement already satisfied: typing-extensions>=3.7.4.3 in /vol/bitbucket/kza23/msc/lib/python3.10/site-packages (from huggingface-hub->unsloth@ git+https://github.com/unslothai/unsloth.git->unsloth[colab-new]@ git+https://github.com/unslothai/unsloth.git) (4.9.0)\n",
      "Requirement already satisfied: regex!=2019.12.17 in /vol/bitbucket/kza23/msc/lib/python3.10/site-packages (from transformers>=4.43.2->unsloth@ git+https://github.com/unslothai/unsloth.git->unsloth[colab-new]@ git+https://github.com/unslothai/unsloth.git) (2024.4.16)\n",
      "Requirement already satisfied: safetensors>=0.4.1 in /vol/bitbucket/kza23/msc/lib/python3.10/site-packages (from transformers>=4.43.2->unsloth@ git+https://github.com/unslothai/unsloth.git->unsloth[colab-new]@ git+https://github.com/unslothai/unsloth.git) (0.4.3)\n",
      "Requirement already satisfied: tokenizers<0.20,>=0.19 in /vol/bitbucket/kza23/msc/lib/python3.10/site-packages (from transformers>=4.43.2->unsloth@ git+https://github.com/unslothai/unsloth.git->unsloth[colab-new]@ git+https://github.com/unslothai/unsloth.git) (0.19.1)\n",
      "Requirement already satisfied: docstring-parser>=0.14.1 in /vol/bitbucket/kza23/msc/lib/python3.10/site-packages (from tyro->unsloth@ git+https://github.com/unslothai/unsloth.git->unsloth[colab-new]@ git+https://github.com/unslothai/unsloth.git) (0.16)\n",
      "Requirement already satisfied: rich>=11.1.0 in /vol/bitbucket/kza23/msc/lib/python3.10/site-packages (from tyro->unsloth@ git+https://github.com/unslothai/unsloth.git->unsloth[colab-new]@ git+https://github.com/unslothai/unsloth.git) (13.7.1)\n",
      "Requirement already satisfied: shtab>=1.5.6 in /vol/bitbucket/kza23/msc/lib/python3.10/site-packages (from tyro->unsloth@ git+https://github.com/unslothai/unsloth.git->unsloth[colab-new]@ git+https://github.com/unslothai/unsloth.git) (1.7.1)\n",
      "Requirement already satisfied: aiosignal>=1.1.2 in /vol/bitbucket/kza23/msc/lib/python3.10/site-packages (from aiohttp->datasets>=2.16.0->unsloth@ git+https://github.com/unslothai/unsloth.git->unsloth[colab-new]@ git+https://github.com/unslothai/unsloth.git) (1.3.1)\n",
      "Requirement already satisfied: attrs>=17.3.0 in /vol/bitbucket/kza23/msc/lib/python3.10/site-packages (from aiohttp->datasets>=2.16.0->unsloth@ git+https://github.com/unslothai/unsloth.git->unsloth[colab-new]@ git+https://github.com/unslothai/unsloth.git) (23.2.0)\n",
      "Requirement already satisfied: frozenlist>=1.1.1 in /vol/bitbucket/kza23/msc/lib/python3.10/site-packages (from aiohttp->datasets>=2.16.0->unsloth@ git+https://github.com/unslothai/unsloth.git->unsloth[colab-new]@ git+https://github.com/unslothai/unsloth.git) (1.4.1)\n",
      "Requirement already satisfied: multidict<7.0,>=4.5 in /vol/bitbucket/kza23/msc/lib/python3.10/site-packages (from aiohttp->datasets>=2.16.0->unsloth@ git+https://github.com/unslothai/unsloth.git->unsloth[colab-new]@ git+https://github.com/unslothai/unsloth.git) (6.0.5)\n",
      "Requirement already satisfied: yarl<2.0,>=1.0 in /vol/bitbucket/kza23/msc/lib/python3.10/site-packages (from aiohttp->datasets>=2.16.0->unsloth@ git+https://github.com/unslothai/unsloth.git->unsloth[colab-new]@ git+https://github.com/unslothai/unsloth.git) (1.9.4)\n",
      "Requirement already satisfied: async-timeout<5.0,>=4.0 in /vol/bitbucket/kza23/msc/lib/python3.10/site-packages (from aiohttp->datasets>=2.16.0->unsloth@ git+https://github.com/unslothai/unsloth.git->unsloth[colab-new]@ git+https://github.com/unslothai/unsloth.git) (4.0.3)\n",
      "Requirement already satisfied: charset-normalizer<4,>=2 in /vol/bitbucket/kza23/msc/lib/python3.10/site-packages (from requests>=2.19.0->datasets>=2.16.0->unsloth@ git+https://github.com/unslothai/unsloth.git->unsloth[colab-new]@ git+https://github.com/unslothai/unsloth.git) (3.3.2)\n",
      "Requirement already satisfied: idna<4,>=2.5 in /vol/bitbucket/kza23/msc/lib/python3.10/site-packages (from requests>=2.19.0->datasets>=2.16.0->unsloth@ git+https://github.com/unslothai/unsloth.git->unsloth[colab-new]@ git+https://github.com/unslothai/unsloth.git) (3.7)\n",
      "Requirement already satisfied: urllib3<3,>=1.21.1 in /vol/bitbucket/kza23/msc/lib/python3.10/site-packages (from requests>=2.19.0->datasets>=2.16.0->unsloth@ git+https://github.com/unslothai/unsloth.git->unsloth[colab-new]@ git+https://github.com/unslothai/unsloth.git) (2.2.1)\n",
      "Requirement already satisfied: certifi>=2017.4.17 in /vol/bitbucket/kza23/msc/lib/python3.10/site-packages (from requests>=2.19.0->datasets>=2.16.0->unsloth@ git+https://github.com/unslothai/unsloth.git->unsloth[colab-new]@ git+https://github.com/unslothai/unsloth.git) (2024.2.2)\n",
      "Requirement already satisfied: markdown-it-py>=2.2.0 in /vol/bitbucket/kza23/msc/lib/python3.10/site-packages (from rich>=11.1.0->tyro->unsloth@ git+https://github.com/unslothai/unsloth.git->unsloth[colab-new]@ git+https://github.com/unslothai/unsloth.git) (3.0.0)\n",
      "Requirement already satisfied: pygments<3.0.0,>=2.13.0 in /vol/bitbucket/kza23/msc/lib/python3.10/site-packages (from rich>=11.1.0->tyro->unsloth@ git+https://github.com/unslothai/unsloth.git->unsloth[colab-new]@ git+https://github.com/unslothai/unsloth.git) (2.17.2)\n",
      "Requirement already satisfied: python-dateutil>=2.8.2 in /vol/bitbucket/kza23/msc/lib/python3.10/site-packages (from pandas->datasets>=2.16.0->unsloth@ git+https://github.com/unslothai/unsloth.git->unsloth[colab-new]@ git+https://github.com/unslothai/unsloth.git) (2.9.0.post0)\n",
      "Requirement already satisfied: pytz>=2020.1 in /vol/bitbucket/kza23/msc/lib/python3.10/site-packages (from pandas->datasets>=2.16.0->unsloth@ git+https://github.com/unslothai/unsloth.git->unsloth[colab-new]@ git+https://github.com/unslothai/unsloth.git) (2024.1)\n",
      "Requirement already satisfied: tzdata>=2022.7 in /vol/bitbucket/kza23/msc/lib/python3.10/site-packages (from pandas->datasets>=2.16.0->unsloth@ git+https://github.com/unslothai/unsloth.git->unsloth[colab-new]@ git+https://github.com/unslothai/unsloth.git) (2024.1)\n",
      "Requirement already satisfied: mdurl~=0.1 in /vol/bitbucket/kza23/msc/lib/python3.10/site-packages (from markdown-it-py>=2.2.0->rich>=11.1.0->tyro->unsloth@ git+https://github.com/unslothai/unsloth.git->unsloth[colab-new]@ git+https://github.com/unslothai/unsloth.git) (0.1.2)\n",
      "Requirement already satisfied: six>=1.5 in /vol/bitbucket/kza23/msc/lib/python3.10/site-packages (from python-dateutil>=2.8.2->pandas->datasets>=2.16.0->unsloth@ git+https://github.com/unslothai/unsloth.git->unsloth[colab-new]@ git+https://github.com/unslothai/unsloth.git) (1.16.0)\n",
      "Requirement already satisfied: xformers<0.0.27 in /vol/bitbucket/kza23/msc/lib/python3.10/site-packages (0.0.25.post1)\n",
      "Requirement already satisfied: trl<0.9.0 in /vol/bitbucket/kza23/msc/lib/python3.10/site-packages (0.8.6)\n",
      "Requirement already satisfied: peft in /vol/bitbucket/kza23/msc/lib/python3.10/site-packages (0.10.1.dev0)\n",
      "Requirement already satisfied: accelerate in /vol/bitbucket/kza23/msc/lib/python3.10/site-packages (0.30.0.dev0)\n",
      "Requirement already satisfied: bitsandbytes in /vol/bitbucket/kza23/msc/lib/python3.10/site-packages (0.43.1)\n"
     ]
    }
   ],
   "source": [
    "!pip install \"unsloth[colab-new] @ git+https://github.com/unslothai/unsloth.git\"\n",
    "!pip install --no-deps \"xformers<0.0.27\" \"trl<0.9.0\" peft accelerate bitsandbytes"
   ]
  },
  {
   "cell_type": "code",
   "execution_count": 2,
   "metadata": {},
   "outputs": [
    {
     "name": "stdout",
     "output_type": "stream",
     "text": [
      "🦥 Unsloth: Will patch your computer to enable 2x faster free finetuning.\n"
     ]
    }
   ],
   "source": [
    "from unsloth import FastLanguageModel\n",
    "from datasets import load_dataset\n",
    "import pandas as pd\n",
    "from tqdm import tqdm\n",
    "import csv\n",
    "import re\n",
    "from pathlib import Path"
   ]
  },
  {
   "cell_type": "code",
   "execution_count": 3,
   "metadata": {},
   "outputs": [],
   "source": [
    "WORK_DIR = Path('/vol/bitbucket/kza23/finetuning')"
   ]
  },
  {
   "cell_type": "code",
   "execution_count": 6,
   "metadata": {},
   "outputs": [
    {
     "name": "stdout",
     "output_type": "stream",
     "text": [
      "==((====))==  Unsloth 2024.8: Fast Llama patching. Transformers = 4.43.3.\n",
      "   \\\\   /|    GPU: NVIDIA A30 MIG 2g.12gb. Max memory: 11.688 GB. Platform = Linux.\n",
      "O^O/ \\_/ \\    Pytorch: 2.2.2+cu121. CUDA = 8.0. CUDA Toolkit = 12.1.\n",
      "\\        /    Bfloat16 = TRUE. FA [Xformers = 0.0.25.post1. FA2 = False]\n",
      " \"-____-\"     Free Apache license: http://github.com/unslothai/unsloth\n"
     ]
    }
   ],
   "source": [
    "max_seq_length = 20 # Choose any! We auto support RoPE Scaling internally!\n",
    "dtype = None # None for auto detection. Float16 for Tesla T4, V100, Bfloat16 for Ampere+\n",
    "load_in_4bit = True # Use 4bit quantization to reduce memory usage. Can be False.\n",
    "\n",
    "model, tokenizer = FastLanguageModel.from_pretrained(\n",
    "    model_name = model_name,\n",
    "    max_seq_length = max_seq_length,\n",
    "    dtype = dtype,\n",
    "    load_in_4bit = load_in_4bit,\n",
    ")\n",
    "\n",
    "FastLanguageModel.for_inference(model)"
   ]
  },
  {
   "cell_type": "code",
   "execution_count": 7,
   "metadata": {},
   "outputs": [
    {
     "data": {
      "text/html": [
       "<div>\n",
       "<style scoped>\n",
       "    .dataframe tbody tr th:only-of-type {\n",
       "        vertical-align: middle;\n",
       "    }\n",
       "\n",
       "    .dataframe tbody tr th {\n",
       "        vertical-align: top;\n",
       "    }\n",
       "\n",
       "    .dataframe thead th {\n",
       "        text-align: right;\n",
       "    }\n",
       "</style>\n",
       "<table border=\"1\" class=\"dataframe\">\n",
       "  <thead>\n",
       "    <tr style=\"text-align: right;\">\n",
       "      <th></th>\n",
       "      <th>output</th>\n",
       "      <th>real</th>\n",
       "    </tr>\n",
       "  </thead>\n",
       "  <tbody>\n",
       "    <tr>\n",
       "      <th>0</th>\n",
       "      <td>The vulnerability is in the `netPrimeDebtChang...</td>\n",
       "      <td>The `repayAccountPrimeDebtAtSettlement()` func...</td>\n",
       "    </tr>\n",
       "    <tr>\n",
       "      <th>1</th>\n",
       "      <td>The vulnerability is in the `claimableUnlocked...</td>\n",
       "      <td>The `lockCapital` mechanism in the ProtectionP...</td>\n",
       "    </tr>\n",
       "    <tr>\n",
       "      <th>2</th>\n",
       "      <td>The vulnerability is in the `_update` function...</td>\n",
       "      <td>The vulnerability occurs when the `_invariant`...</td>\n",
       "    </tr>\n",
       "    <tr>\n",
       "      <th>3</th>\n",
       "      <td>The codeblock contains a vulnerability in the ...</td>\n",
       "      <td>There is no vulnearbility</td>\n",
       "    </tr>\n",
       "    <tr>\n",
       "      <th>4</th>\n",
       "      <td>The vulnerability is in the `_credit` function...</td>\n",
       "      <td>The vulnerability arises when the account bein...</td>\n",
       "    </tr>\n",
       "    <tr>\n",
       "      <th>...</th>\n",
       "      <td>...</td>\n",
       "      <td>...</td>\n",
       "    </tr>\n",
       "    <tr>\n",
       "      <th>432</th>\n",
       "      <td>The vulnerability is in the `require` statemen...</td>\n",
       "      <td>There is no vulnearbility</td>\n",
       "    </tr>\n",
       "    <tr>\n",
       "      <th>433</th>\n",
       "      <td>The vulnerability is in the `getPriceUSD` func...</td>\n",
       "      <td>The StableOracleWBTC contract relies on a BTC/...</td>\n",
       "    </tr>\n",
       "    <tr>\n",
       "      <th>434</th>\n",
       "      <td>The vulnerability is in the `MigrateWithdrawal...</td>\n",
       "      <td>The `MigrateWithdrawal` function in the `migra...</td>\n",
       "    </tr>\n",
       "    <tr>\n",
       "      <th>435</th>\n",
       "      <td>The vulnerability is in the `addLiquidity` fun...</td>\n",
       "      <td>The createMarket transaction lacks a crucial e...</td>\n",
       "    </tr>\n",
       "    <tr>\n",
       "      <th>436</th>\n",
       "      <td>The codeblock contains a vulnerability in the ...</td>\n",
       "      <td>There is no vulnearbility</td>\n",
       "    </tr>\n",
       "  </tbody>\n",
       "</table>\n",
       "<p>437 rows × 2 columns</p>\n",
       "</div>"
      ],
      "text/plain": [
       "                                                output  \\\n",
       "0    The vulnerability is in the `netPrimeDebtChang...   \n",
       "1    The vulnerability is in the `claimableUnlocked...   \n",
       "2    The vulnerability is in the `_update` function...   \n",
       "3    The codeblock contains a vulnerability in the ...   \n",
       "4    The vulnerability is in the `_credit` function...   \n",
       "..                                                 ...   \n",
       "432  The vulnerability is in the `require` statemen...   \n",
       "433  The vulnerability is in the `getPriceUSD` func...   \n",
       "434  The vulnerability is in the `MigrateWithdrawal...   \n",
       "435  The vulnerability is in the `addLiquidity` fun...   \n",
       "436  The codeblock contains a vulnerability in the ...   \n",
       "\n",
       "                                                  real  \n",
       "0    The `repayAccountPrimeDebtAtSettlement()` func...  \n",
       "1    The `lockCapital` mechanism in the ProtectionP...  \n",
       "2    The vulnerability occurs when the `_invariant`...  \n",
       "3                            There is no vulnearbility  \n",
       "4    The vulnerability arises when the account bein...  \n",
       "..                                                 ...  \n",
       "432                          There is no vulnearbility  \n",
       "433  The StableOracleWBTC contract relies on a BTC/...  \n",
       "434  The `MigrateWithdrawal` function in the `migra...  \n",
       "435  The createMarket transaction lacks a crucial e...  \n",
       "436                          There is no vulnearbility  \n",
       "\n",
       "[437 rows x 2 columns]"
      ]
     },
     "execution_count": 7,
     "metadata": {},
     "output_type": "execute_result"
    }
   ],
   "source": [
    "results = pd.read_csv(f\"{model_alias}-descriptions.csv\")\n",
    "results.loc[results[\"real\"].isnull(), 'real'] = \"There is no vulnearbility\"\n",
    "results"
   ]
  },
  {
   "cell_type": "code",
   "execution_count": 8,
   "metadata": {},
   "outputs": [
    {
     "name": "stdout",
     "output_type": "stream",
     "text": [
      "/homes/kza23\n"
     ]
    }
   ],
   "source": [
    "!pwd"
   ]
  },
  {
   "cell_type": "code",
   "execution_count": 29,
   "metadata": {},
   "outputs": [],
   "source": [
    "with open(WORK_DIR/'prompts/evaluation.txt', mode='r') as f:\n",
    "    eval_prompt = f.read()\n",
    "\n",
    "split_token = eval_prompt.split('\\n')[-2]\n",
    "\n",
    "criteria = []\n",
    "for idx in range(1, 4):\n",
    "    with open(WORK_DIR/f'prompts/criterion{idx}.txt', mode='r') as f:\n",
    "        criteria.append(f.read())\n"
   ]
  },
  {
   "cell_type": "code",
   "execution_count": 30,
   "metadata": {},
   "outputs": [
    {
     "name": "stdout",
     "output_type": "stream",
     "text": [
      "<|begin_of_text|><|start_header_id|>system<|end_header_id|>\n",
      "You are given 2 smart-contract audits written by a professional auditor and a student.\n",
      "You are assigned a single criterion as a part of a larger audit.\n",
      "Your task is to determine wether this criterion is satisfied or not.\n",
      "\n",
      "First analyze wether the criterion is met or not, without outputing a final verdict.\n",
      "Only once you have output your reasoning, provide a final verdict by outputing FAIL or PASS - nothing else is allowed.\n",
      "In cases where the crietrion is partially met you should determine wether FAIL or PASS would be a more accurate verdict in the specific case.\n",
      "Stick to this formatting:\n",
      "Reasoning: ...\n",
      "Verdict: PASS/FAIL\n",
      "\n",
      "<|start_header_id|>user<|end_header_id|>\n",
      "Criterion:\n",
      "{}\n",
      "\n",
      "Professional audit:\n",
      "{}\n",
      "\n",
      "Student audit:\n",
      "{}\n",
      "<|start_header_id|>assistant<|end_header_id|>\n",
      "Reasoning:\n",
      "\n",
      "Reasoning:\n",
      "Fulfilled if the two audits describe the same vulnerability. This is about the nature of vulnerability, rather than the specifics in the code.\n",
      "Fulfilled if the student describes the same functionality or the same part of the code as the professional auditor. This is about the location of the vulnerability rather than its nature.\n",
      "Fulfilled if the two audits describe the same attacking strategy, even if the students' strategy lacks the same level of detail as yours. Here the actual vulnerability is not important - if the strategy is the same this criterion is fulfilled.\n"
     ]
    }
   ],
   "source": [
    "print(eval_prompt)\n",
    "print(split_token)\n",
    "for cirterion in criteria:\n",
    "    print(cirterion)"
   ]
  },
  {
   "cell_type": "code",
   "execution_count": 77,
   "metadata": {},
   "outputs": [],
   "source": [
    "def run_criteria(query):\n",
    "    ret_reasoning = ''\n",
    "    verdicts = []\n",
    "    for idx, criterion in enumerate(criteria):\n",
    "        format_input = query.format(criterion).replace('{{', '{').replace('}}', '}')\n",
    "        inputs = tokenizer(format_input, return_tensors=\"pt\", truncation=True).to(\"cuda\")\n",
    "        output_tokens = model.generate(\n",
    "            **inputs,\n",
    "            max_new_tokens=512,\n",
    "            pad_token_id=tokenizer.pad_token_id,\n",
    "            use_cache = True\n",
    "        )\n",
    "\n",
    "        decoded_output = tokenizer.decode(\n",
    "            output_tokens[0],\n",
    "            skip_special_tokens=True,\n",
    "            pad_token_id=tokenizer.pad_token_id,\n",
    "        )\n",
    "\n",
    "        result = decoded_output.split(f\"{split_token}\\n\")[1].strip()\n",
    "        parts = result.split('Verdict: ')\n",
    "        if len(parts) == 2:\n",
    "            reasoning, verdict = parts\n",
    "        else:\n",
    "            verdict = \"N/A\"\n",
    "            reasoning = parts[0]\n",
    "\n",
    "        ret_reasoning += f'Criterion {idx+1}:\\n{reasoning.strip()}\\n'\n",
    "        verdicts.append(verdict.strip())\n",
    "    return verdicts, ret_reasoning\n",
    "\n",
    "def run_query(data, query, show_tqdm=True):\n",
    "    queries = data.apply(lambda row: query.format(\n",
    "        \"{}\",\n",
    "        row['real'].replace('\\\\n', '\\n').replace('{', '{{').replace('}', '}}'),\n",
    "        row['output'].replace('\\\\n', '\\n').replace('{', '{{').replace('}', '}}'),\n",
    "    ), axis=1)\n",
    "\n",
    "    queries = queries[88:]\n",
    "\n",
    "    if show_tqdm:\n",
    "        iterator = tqdm(enumerate(queries), total=len(queries))\n",
    "    else:\n",
    "        iterator = enumerate(queries)\n",
    "\n",
    "    for idx, query in iterator:\n",
    "        real_contains_vuln = data.iloc[idx][\"real\"] != \"There is no vulnearbility\"\n",
    "        output_contains_vuln = data.iloc[idx][\"output\"] != \"There is no vulnearbility\"\n",
    "\n",
    "        if real_contains_vuln != output_contains_vuln:\n",
    "            yield [\"FAIL\", \"FAIL\", \"FAIL\", \"FAIL\", \"Criterion 0: FAIL\\\\n One of the descriptions does not contain a vulnerability.\"]\n",
    "            continue\n",
    "\n",
    "        if not real_contains_vuln and not output_contains_vuln:\n",
    "            yield [\"PASS\", \"PASS\", \"PASS\", \"PASS\", \"No vulnerabilities to compare.\"]\n",
    "            continue\n",
    "\n",
    "\n",
    "        verdicts, reasoning = run_criteria(query)\n",
    "        verdicts = [\"PASS\"] + verdicts\n",
    "\n",
    "        yield verdicts + [reasoning.replace(\"\\n\", \"\\\\n\")]"
   ]
  },
  {
   "cell_type": "code",
   "execution_count": 78,
   "metadata": {},
   "outputs": [
    {
     "name": "stderr",
     "output_type": "stream",
     "text": [
      "100%|█████████████████████████████████████████████████████████████████████████████████████████| 349/349 [1:08:01<00:00, 11.69s/it]\n"
     ]
    }
   ],
   "source": [
    "with open(f\"{model_alias}-descriptions-results-v2.csv\", \"w\", newline=\"\") as f:\n",
    "    writer = csv.writer(f)\n",
    "    writer.writerow([\"cr0\", \"cr1\", \"cr2\", \"cr3\", \"description\"])\n",
    "    for result in run_query(results, eval_prompt):\n",
    "        writer.writerow(result)"
   ]
  },
  {
   "cell_type": "code",
   "execution_count": null,
   "metadata": {},
   "outputs": [],
   "source": []
  }
 ],
 "metadata": {
  "kernelspec": {
   "display_name": "Python 3 (ipykernel)",
   "language": "python",
   "name": "python3"
  }
 },
 "nbformat": 4,
 "nbformat_minor": 2
}
