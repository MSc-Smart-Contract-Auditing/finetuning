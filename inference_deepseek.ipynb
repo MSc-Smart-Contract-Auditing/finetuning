{
 "cells": [
  {
   "cell_type": "code",
   "execution_count": null,
   "metadata": {},
   "outputs": [],
   "source": [
    "model_name = 'deepseek-ai/deepseek-coder-1.3b-instruct'\n",
    "model_alias = 'deepseek-coder-1.3b'"
   ]
  },
  {
   "cell_type": "code",
   "execution_count": null,
   "metadata": {},
   "outputs": [],
   "source": [
    "from datasets import load_dataset\n",
    "from tqdm import tqdm\n",
    "import csv\n",
    "from pathlib import Path\n",
    "import torch\n",
    "from transformers import AutoTokenizer, AutoModelForCausalLM"
   ]
  },
  {
   "cell_type": "code",
   "execution_count": null,
   "metadata": {},
   "outputs": [],
   "source": [
    "WORK_DIR = Path(f'/vol/bitbucket/kza23/finetuning/{model_alias}')\n",
    "WORK_DIR.mkdir(exist_ok=True)"
   ]
  },
  {
   "cell_type": "code",
   "execution_count": null,
   "metadata": {},
   "outputs": [],
   "source": [
    "tokenizer = AutoTokenizer.from_pretrained(model_name, trust_remote_code=True)\n",
    "model = AutoModelForCausalLM.from_pretrained(\n",
    "    model_name,\n",
    "    trust_remote_code=True,\n",
    "    torch_dtype=torch.bfloat16,\n",
    "    device_map='auto'\n",
    ")"
   ]
  },
  {
   "cell_type": "code",
   "execution_count": null,
   "metadata": {},
   "outputs": [],
   "source": [
    "test_dataset = load_dataset(\n",
    "    \"msc-smart-contract-audition/audits-with-reasons\",\n",
    "    split=\"test\"\n",
    ")\n",
    "\n",
    "test_dataset"
   ]
  },
  {
   "cell_type": "code",
   "execution_count": null,
   "metadata": {},
   "outputs": [],
   "source": [
    "prompt = \\\n",
    "\"\"\"\n",
    "Below are one or more Solidity codeblocks. The codeblocks might contain vulnerable code.\n",
    "If there is a vulnerability please provide a description of the vulnearblity in terms of the code that is responsible for it.\n",
    "Describe how an attacker would be able to take advantage of the vulnerability so the explanation is even more clear.\n",
    "\n",
    "Output only the description of the vulnerability and the attacking vector. No additional information is needed.\n",
    "\n",
    "If there is no vulnerability output \"There is no vulnearbility\".\n",
    "\n",
    "Codeblocks:\n",
    "{}\n",
    "\"\"\""
   ]
  },
  {
   "cell_type": "code",
   "execution_count": null,
   "metadata": {},
   "outputs": [],
   "source": [
    "df_test = test_dataset.to_pandas()\n",
    "\n",
    "queries = df_test.apply(lambda row: prompt.format(row['code'].replace('\\\\n', '\\n')), axis=1)\n",
    "\n",
    "print(queries.iloc[0])"
   ]
  },
  {
   "cell_type": "code",
   "execution_count": null,
   "metadata": {},
   "outputs": [],
   "source": [
    "with open(WORK_DIR/\"outputs.csv\", \"w\", newline=\"\") as f:\n",
    "    writer = csv.writer(f)\n",
    "    writer.writerow([\"id\", \"output\", \"real\"])\n",
    "\n",
    "    for idx, (query, real) in tqdm(enumerate(zip(queries, test_dataset['description'])), total=len(queries)):\n",
    "\n",
    "        messages = [\n",
    "            { 'role': 'user', 'content': query }\n",
    "        ]\n",
    "        inputs = tokenizer.apply_chat_template(messages, add_generation_prompt=True, return_tensors=\"pt\").to(model.device)\n",
    "        outputs = model.generate(inputs, max_new_tokens=512, do_sample=False, top_k=50, top_p=0.95, num_return_sequences=1, eos_token_id=tokenizer.eos_token_id)\n",
    "        description = tokenizer.decode(outputs[0][len(inputs[0]):], skip_special_tokens=True)\n",
    "        writer.writerow([idx, description, real])"
   ]
  }
 ],
 "metadata": {
  "kernelspec": {
   "display_name": "Python 3 (ipykernel)",
   "language": "python",
   "name": "python3"
  },
  "language_info": {
   "codemirror_mode": {
    "name": "ipython",
    "version": 3
   },
   "file_extension": ".py",
   "mimetype": "text/x-python",
   "name": "python",
   "nbconvert_exporter": "python",
   "pygments_lexer": "ipython3",
   "version": "3.10.12"
  }
 },
 "nbformat": 4,
 "nbformat_minor": 2
}
