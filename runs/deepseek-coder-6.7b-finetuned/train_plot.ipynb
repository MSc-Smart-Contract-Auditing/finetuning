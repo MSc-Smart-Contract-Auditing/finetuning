{
 "cells": [
  {
   "cell_type": "code",
   "execution_count": null,
   "metadata": {},
   "outputs": [],
   "source": [
    "import pandas as pd\n",
    "data = pd.read_json(path_or_buf='train_logs.jsonl', lines=True)\n",
    "loss = data['loss']"
   ]
  },
  {
   "cell_type": "code",
   "execution_count": null,
   "metadata": {},
   "outputs": [],
   "source": [
    "import matplotlib.pyplot as plt\n",
    "import pandas as pd\n",
    "\n",
    "# Your loss data as a pandas Series\n",
    "epochs = len(loss)\n",
    "normalized_epoch = loss.index / (epochs - 1)\n",
    "\n",
    "# Plotting\n",
    "plt.figure(figsize=(10, 5))\n",
    "plt.plot(normalized_epoch, loss, label='Loss', color='blue')\n",
    "\n",
    "# Adding labels and title\n",
    "plt.xlabel('Epoch')\n",
    "plt.ylabel('Loss')\n",
    "plt.title('Cross-Entropy Loss Over 1 Epoch')\n",
    "\n",
    "# Training details to include on the plot\n",
    "training_details = \"\"\"\n",
    "rank = 16\n",
    "lora_alpha = 32\n",
    "lora_dropout = 0.05\n",
    "per_device_train_batch_size = 2\n",
    "gradient_accumulation_steps = 4\n",
    "warmup_steps = 5\n",
    "learning_rate = 2e-4\n",
    "optim = \"adamw_8bit\"\n",
    "weight_decay = 0.01\n",
    "\"\"\"\n",
    "\n",
    "# Adding the training details as text on the side\n",
    "plt.text(1.05, 0.5, training_details, transform=plt.gca().transAxes,\n",
    "         fontsize=12, verticalalignment='center')\n",
    "\n",
    "plt.grid(True)\n",
    "\n",
    "plt.vlines(0.1, 0, 4, colors='r', linestyles='dashed', label='Model learns output format')\n",
    "\n",
    "# Adjusting the plot to make space for the text\n",
    "plt.subplots_adjust(right=0.75)\n",
    "plt.legend()\n",
    "# Show the plot\n",
    "plt.savefig('loss.pdf', format='pdf', bbox_inches='tight', pad_inches=0)\n",
    "plt.show()\n"
   ]
  }
 ],
 "metadata": {
  "kernelspec": {
   "display_name": "rl",
   "language": "python",
   "name": "python3"
  },
  "language_info": {
   "codemirror_mode": {
    "name": "ipython",
    "version": 3
   },
   "file_extension": ".py",
   "mimetype": "text/x-python",
   "name": "python",
   "nbconvert_exporter": "python",
   "pygments_lexer": "ipython3",
   "version": "3.11.7"
  }
 },
 "nbformat": 4,
 "nbformat_minor": 2
}
