{
  "cells": [
    {
      "cell_type": "code",
      "execution_count": null,
      "metadata": {
        "id": "l6dnLLCK8cwN"
      },
      "outputs": [],
      "source": [
        "model_name = 'deepseek-ai/deepseek-coder-1.3b-instruct'\n",
        "model_alias = 'deepseek-coder-1.3b'"
      ]
    },
    {
      "cell_type": "code",
      "execution_count": null,
      "metadata": {
        "id": "1UhfQ4w_8cwO"
      },
      "outputs": [],
      "source": [
        "from datasets import load_dataset\n",
        "from tqdm import tqdm\n",
        "import csv\n",
        "from pathlib import Path\n",
        "import torch\n",
        "from transformers import AutoTokenizer, AutoModelForCausalLM"
      ]
    },
    {
      "cell_type": "code",
      "execution_count": null,
      "metadata": {
        "id": "fp92zyjN8cwO"
      },
      "outputs": [],
      "source": [
        "WORK_DIR = Path(model_alias)\n",
        "WORK_DIR.mkdir(exist_ok=True)"
      ]
    },
    {
      "cell_type": "code",
      "execution_count": null,
      "metadata": {
        "id": "Qqia7-cx8cwO"
      },
      "outputs": [],
      "source": [
        "tokenizer = AutoTokenizer.from_pretrained(model_name, trust_remote_code=True)\n",
        "model = AutoModelForCausalLM.from_pretrained(\n",
        "    model_name,\n",
        "    trust_remote_code=True,\n",
        "    torch_dtype=torch.bfloat16,\n",
        "    device_map='auto'\n",
        ")"
      ]
    },
    {
      "cell_type": "code",
      "execution_count": null,
      "metadata": {
        "id": "eQPvvFx78cwO"
      },
      "outputs": [],
      "source": [
        "test_dataset = load_dataset(\n",
        "    \"msc-smart-contract-audition/audits-with-reasons\",\n",
        "    split=\"test\"\n",
        ")\n",
        "\n",
        "test_dataset"
      ]
    },
    {
      "cell_type": "code",
      "execution_count": null,
      "metadata": {
        "id": "MNly3C2-8cwP"
      },
      "outputs": [],
      "source": [
        "query_template = \\\n",
        "\"\"\"\n",
        "Below is some solidity code and a description of a vulnerability that the code contains.\n",
        "\n",
        "Explain how to mitigate or fix the vulnerability.\n",
        "Codeblocks:\n",
        "{}\n",
        "\n",
        "Vulnerability:\n",
        "{}\"\"\""
      ]
    },
    {
      "cell_type": "code",
      "execution_count": null,
      "metadata": {},
      "outputs": [],
      "source": [
        "df_test = test_dataset.to_pandas()\n",
        "df_test = df_test[df_test['description'].notnull()]\n",
        "queries = df_test.apply(lambda row: query_template.format(row['code'].replace('\\\\n', '\\n'), row['description'].replace('\\\\n', '\\n')), axis=1)"
      ]
    },
    {
      "cell_type": "code",
      "execution_count": null,
      "metadata": {
        "id": "pfmnmkcy8f_d"
      },
      "outputs": [],
      "source": [
        "with open(WORK_DIR/\"recommendations.csv\", \"w\", newline=\"\") as f:\n",
        "    writer = csv.writer(f)\n",
        "    writer.writerow([\"id\", \"output\", \"real\"])\n",
        "\n",
        "    for idx, (query, real) in tqdm(enumerate(zip(queries, test_dataset['recommendation'])), total=len(queries)):\n",
        "\n",
        "        messages = [\n",
        "            { 'role': 'user', 'content': query }\n",
        "        ]\n",
        "        inputs = tokenizer.apply_chat_template(messages, add_generation_prompt=True, return_tensors=\"pt\").to(model.device)\n",
        "        outputs = model.generate(inputs, max_new_tokens=512, do_sample=True, top_k=50, top_p=0.95, num_return_sequences=1, eos_token_id=tokenizer.eos_token_id)\n",
        "        recommendation = tokenizer.decode(outputs[0][len(inputs[0]):], skip_special_tokens=True).replace('\\n', '\\\\n')\n",
        "        writer.writerow([idx, recommendation, real])"
      ]
    }
  ],
  "metadata": {
    "colab": {
      "provenance": []
    },
    "kernelspec": {
      "display_name": "Python 3 (ipykernel)",
      "language": "python",
      "name": "python3"
    },
    "language_info": {
      "codemirror_mode": {
        "name": "ipython",
        "version": 3
      },
      "file_extension": ".py",
      "mimetype": "text/x-python",
      "name": "python",
      "nbconvert_exporter": "python",
      "pygments_lexer": "ipython3",
      "version": "3.10.12"
    }
  },
  "nbformat": 4,
  "nbformat_minor": 0
}
