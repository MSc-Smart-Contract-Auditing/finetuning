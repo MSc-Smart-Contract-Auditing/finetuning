{
 "cells": [
  {
   "cell_type": "code",
   "execution_count": 1,
   "metadata": {},
   "outputs": [],
   "source": [
    "model_name = 'unsloth/llama-3-8b-Instruct-bnb-4bit'\n",
    "model_alias = 'llama3-8b'"
   ]
  },
  {
   "cell_type": "code",
   "execution_count": 2,
   "metadata": {},
   "outputs": [
    {
     "name": "stdout",
     "output_type": "stream",
     "text": [
      "🦥 Unsloth: Will patch your computer to enable 2x faster free finetuning.\n"
     ]
    }
   ],
   "source": [
    "from unsloth import FastLanguageModel\n",
    "from datasets import load_dataset\n",
    "import pandas as pd\n",
    "from tqdm import tqdm\n",
    "import csv\n",
    "import re\n",
    "from pathlib import Path"
   ]
  },
  {
   "cell_type": "code",
   "execution_count": null,
   "metadata": {},
   "outputs": [],
   "source": [
    "WORK_DIR = Path('/vol/bitbucket/kza23/finetuning')"
   ]
  },
  {
   "cell_type": "code",
   "execution_count": 3,
   "metadata": {},
   "outputs": [
    {
     "name": "stdout",
     "output_type": "stream",
     "text": [
      "==((====))==  Unsloth 2024.8: Fast Llama patching. Transformers = 4.43.3.\n",
      "   \\\\   /|    GPU: NVIDIA A30 MIG 2g.12gb. Max memory: 11.688 GB. Platform = Linux.\n",
      "O^O/ \\_/ \\    Pytorch: 2.2.2+cu121. CUDA = 8.0. CUDA Toolkit = 12.1.\n",
      "\\        /    Bfloat16 = TRUE. FA [Xformers = 0.0.25.post1. FA2 = False]\n",
      " \"-____-\"     Free Apache license: http://github.com/unslothai/unsloth\n"
     ]
    }
   ],
   "source": [
    "max_seq_length = 20 # Choose any! We auto support RoPE Scaling internally!\n",
    "dtype = None # None for auto detection. Float16 for Tesla T4, V100, Bfloat16 for Ampere+\n",
    "load_in_4bit = True # Use 4bit quantization to reduce memory usage. Can be False.\n",
    "\n",
    "model, tokenizer = FastLanguageModel.from_pretrained(\n",
    "    model_name = model_name,\n",
    "    max_seq_length = max_seq_length,\n",
    "    dtype = dtype,\n",
    "    load_in_4bit = load_in_4bit,\n",
    ")\n",
    "\n",
    "FastLanguageModel.for_inference(model)"
   ]
  },
  {
   "cell_type": "code",
   "execution_count": 4,
   "metadata": {},
   "outputs": [
    {
     "data": {
      "text/plain": [
       "Dataset({\n",
       "    features: ['code', 'description', 'recommendation', 'type', 'functionality'],\n",
       "    num_rows: 437\n",
       "})"
      ]
     },
     "execution_count": 4,
     "metadata": {},
     "output_type": "execute_result"
    }
   ],
   "source": [
    "test_dataset = load_dataset(\n",
    "    \"msc-smart-contract-audition/audits-with-reasons\",\n",
    "    split=\"test\"\n",
    ")\n",
    "\n",
    "test_dataset"
   ]
  },
  {
   "cell_type": "code",
   "execution_count": 5,
   "metadata": {},
   "outputs": [],
   "source": [
    "query_template = \\\n",
    "\"\"\"\n",
    "<|begin_of_text|><|start_header_id|>system<|end_header_id|>\n",
    "Below are one or more Solidity codeblocks. The codeblocks might contain vulnerable code.\n",
    "If there is a vulnerability please provide a description of the vulnearblity in terms of the code that is responsible for it.\n",
    "Describe how an attacker would be able to take advantage of the vulnerability so the explanation is even more clear.\n",
    "\n",
    "If there is no vulnerability output \"There is no vulnearbility\".\n",
    "Do not output any ways to mitigate or fix the vulnerability, only the vulnerability itself.\n",
    "\n",
    "Think step by step about the code and the possible vulnerabilities.\n",
    "<|start_header_id|>user<|end_header_id|>\n",
    "Codeblocks:\n",
    "{}<|eot_id|>\n",
    "\n",
    "<|start_header_id|>assistant<|end_header_id|>\n",
    "Description of the vulnerability:\n",
    "\"\"\""
   ]
  },
  {
   "cell_type": "code",
   "execution_count": 7,
   "metadata": {},
   "outputs": [
    {
     "name": "stdout",
     "output_type": "stream",
     "text": [
      "\n",
      "<|begin_of_text|><|start_header_id|>system<|end_header_id|>\n",
      "Below are one or more Solidity codeblocks. The codeblocks might contain vulnerable code.\n",
      "If there is a vulnerability please provide a description of the vulnearblity in terms of the code that is responsible for it.\n",
      "Describe how an attacker would be able to take advantage of the vulnerability so the explanation is even more clear.\n",
      "\n",
      "If there is no vulnerability output \"There is no vulnearbility\".\n",
      "Do not output any ways to mitigate or fix the vulnerability, only the vulnerability itself.\n",
      "\n",
      "Think step by step about the code and the possible vulnerabilities.\n",
      "<|start_header_id|>user<|end_header_id|>\n",
      "Codeblocks:\n",
      "```\n",
      "function repayAccountPrimeDebtAtSettlement(\n",
      "    PrimeRate memory pr,\n",
      "    VaultStateStorage storage primeVaultState,\n",
      "    uint16 currencyId,\n",
      "    address vault,\n",
      "    address account,\n",
      "    int256 accountPrimeCash,\n",
      "    int256 accountPrimeStorageValue\n",
      ") internal returns (int256 finalPrimeDebtStorageValue, bool didTransfer) {\n",
      "    if (netPrimeDebtRepaid < accountPrimeStorageValue) {\n",
      "        // If the net debt change is greater than the debt held by the account, then only\n",
      "        // decrease the total prime debt by what is held by the account. The residual amount\n",
      "        // will be refunded to the account via a direct transfer.\n",
      "        netPrimeDebtChange = accountPrimeStorageValue;\n",
      "        finalPrimeDebtStorageValue = 0;\n",
      "\n",
      "        int256 primeCashRefund = pr.convertFromUnderlying(\n",
      "            pr.convertDebtStorageToUnderlying(netPrimeDebtChange.sub(accountPrimeStorageValue))\n",
      "        );\n",
      "        TokenHandler.withdrawPrimeCash(\n",
      "            account, currencyId, primeCashRefund, pr, false\n",
      "        );\n",
      "        didTransfer = true;\n",
      "    } else {\n",
      "```<|eot_id|>\n",
      "\n",
      "<|start_header_id|>assistant<|end_header_id|>\n",
      "Description of the vulnerability:\n",
      "\n"
     ]
    }
   ],
   "source": [
    "df_test = test_dataset.to_pandas()\n",
    "\n",
    "queries = df_test.apply(lambda row: query_template.format(row['code'].replace('\\\\n', '\\n')), axis=1)\n",
    "\n",
    "print(queries.iloc[0])"
   ]
  },
  {
   "cell_type": "code",
   "execution_count": null,
   "metadata": {},
   "outputs": [],
   "source": [
    "with open(WORK_DIR/f\"{model_alias}-outputs.csv\", \"w\", newline=\"\") as f:\n",
    "    writer = csv.writer(f)\n",
    "    writer.writerow([\"id\", \"output\", \"real\"])\n",
    "\n",
    "    for idx, (query, real) in tqdm(enumerate(zip(queries, test_dataset['description'])), total=len(queries)):\n",
    "        inputs = tokenizer(query, return_tensors=\"pt\", truncation=True).to(\"cuda\")\n",
    "        output_tokens = model.generate(\n",
    "            **inputs, max_new_tokens=512, pad_token_id=tokenizer.pad_token_id\n",
    "        )\n",
    "        decoded_output = tokenizer.decode(\n",
    "            output_tokens[0],\n",
    "            skip_special_tokens=True,\n",
    "            pad_token_id=tokenizer.pad_token_id,\n",
    "        )\n",
    "        description = decoded_output.split(\"Description of the vulnerability:\\n\")[1].strip().replace(\"\\n\", \"\\\\n\")\n",
    "        writer.writerow([idx, description, real])\n"
   ]
  }
 ],
 "metadata": {
  "kernelspec": {
   "display_name": "Python 3 (ipykernel)",
   "language": "python",
   "name": "python3"
  }
 },
 "nbformat": 4,
 "nbformat_minor": 2
}
