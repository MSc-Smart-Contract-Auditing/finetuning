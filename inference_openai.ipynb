{
 "cells": [
  {
   "cell_type": "code",
   "execution_count": null,
   "metadata": {},
   "outputs": [],
   "source": [
    "from openai import OpenAI\n",
    "from config import OPENAI_API_KEY\n",
    "client = OpenAI(\n",
    "    api_key=OPENAI_API_KEY\n",
    ")"
   ]
  },
  {
   "cell_type": "code",
   "execution_count": null,
   "metadata": {},
   "outputs": [],
   "source": [
    "model_alias = \"gpt-4o-mini\""
   ]
  },
  {
   "cell_type": "code",
   "execution_count": null,
   "metadata": {},
   "outputs": [],
   "source": [
    "from pathlib import Path\n",
    "WORK_DIR = Path(f'runs/{model_alias}')\n",
    "WORK_DIR.mkdir(exist_ok=True)"
   ]
  },
  {
   "cell_type": "code",
   "execution_count": null,
   "metadata": {},
   "outputs": [],
   "source": [
    "from datasets import load_dataset\n",
    "\n",
    "test_df = load_dataset(\n",
    "    \"msc-smart-contract-auditing/audits-with-reasons\",\n",
    "    split=\"test\"\n",
    ").to_pandas()\n",
    "\n",
    "test_df.loc[:,'code'] = test_df['code'].str.replace(r'\\\\n', '\\n', regex=True)"
   ]
  },
  {
   "cell_type": "code",
   "execution_count": null,
   "metadata": {},
   "outputs": [],
   "source": [
    "from pydantic import BaseModel\n",
    "\n",
    "class Response(BaseModel):\n",
    "    message: str\n",
    "    total_tokens: int\n",
    "    obj: object"
   ]
  },
  {
   "cell_type": "code",
   "execution_count": null,
   "metadata": {},
   "outputs": [],
   "source": [
    "def prompt(messages) -> Response:\n",
    "    response = client.chat.completions.create(\n",
    "        model=\"gpt-4o-mini\",\n",
    "        messages=messages,\n",
    "        temperature=0,\n",
    "        max_tokens=256,\n",
    "        top_p=1,\n",
    "        frequency_penalty=0,\n",
    "        presence_penalty=0,\n",
    "        response_format={\n",
    "            \"type\": \"text\"\n",
    "        }\n",
    "    )\n",
    "\n",
    "    return Response(**{\n",
    "        'message': response.choices[0].message.content,\n",
    "        'total_tokens': response.usage.total_tokens,\n",
    "        'obj': response\n",
    "    })"
   ]
  },
  {
   "cell_type": "markdown",
   "metadata": {},
   "source": [
    "## Descriptions"
   ]
  },
  {
   "cell_type": "code",
   "execution_count": null,
   "metadata": {},
   "outputs": [],
   "source": [
    "SYSTEM_PROMPT_DESC = \\\n",
    "\"\"\"\n",
    "Below are one or more Solidity codeblocks. The codeblocks might contain vulnerable code.\n",
    "If there is a vulnerability please provide a description of the vulnearblity in terms of the code that is responsible for it.\n",
    "Describe how an attacker would be able to take advantage of the vulnerability so the explanation is even more clear.\n",
    "\n",
    "Output only the description of the vulnerability and the attacking vector. No additional information is needed.\n",
    "\n",
    "If there is no vulnerability output \"There is no vulnearbility\".\n",
    "\"\"\""
   ]
  },
  {
   "cell_type": "code",
   "execution_count": null,
   "metadata": {},
   "outputs": [],
   "source": [
    "def describe(code) -> Response:\n",
    "    messages = [\n",
    "        {\n",
    "            \"role\": \"system\",\n",
    "            \"content\": [{\n",
    "                \"type\": \"text\",\n",
    "                \"text\": SYSTEM_PROMPT_DESC\n",
    "            }]\n",
    "        },\n",
    "        {\n",
    "            \"role\": \"user\",\n",
    "            \"content\": [{\n",
    "                \"text\": f\"Codeblocks:\\n{code}\",\n",
    "                \"type\": \"text\"\n",
    "            }]\n",
    "        },\n",
    "    ]\n",
    "    return prompt(messages)"
   ]
  },
  {
   "cell_type": "code",
   "execution_count": null,
   "metadata": {},
   "outputs": [],
   "source": [
    "data = test_df[['code', 'description']]"
   ]
  },
  {
   "cell_type": "code",
   "execution_count": null,
   "metadata": {},
   "outputs": [],
   "source": [
    "from tqdm import tqdm\n",
    "import csv\n",
    "total_tokens = 0\n",
    "with open(WORK_DIR / 'descriptions.csv', 'w') as f:\n",
    "    w = csv.writer(f)\n",
    "    w.writerow(['id', 'output', 'real'])\n",
    "    with tqdm(data.iterrows(), total=len(data), desc=\"Processing\", unit=\"row\") as progress_bar:\n",
    "        for idx, row in progress_bar:\n",
    "            r = describe(row['code'])\n",
    "            w.writerow([idx, r.message.replace('\\n', '\\\\n'), row['description']])\n",
    "            total_tokens += r.total_tokens\n",
    "            progress_bar.set_postfix({'total_tokens': total_tokens})"
   ]
  },
  {
   "cell_type": "markdown",
   "metadata": {},
   "source": [
    "## Recommendations"
   ]
  },
  {
   "cell_type": "code",
   "execution_count": null,
   "metadata": {},
   "outputs": [],
   "source": [
    "SYSTEM_PROMPT_REC = \\\n",
    "\"\"\"\n",
    "Below is some solidity code and a description of a vulnerability that the code contains.\n",
    "\n",
    "Explain how to mitigate or fix the vulnerability.\n",
    "\"\"\""
   ]
  },
  {
   "cell_type": "code",
   "execution_count": null,
   "metadata": {},
   "outputs": [],
   "source": [
    "def recommend(code, description) -> Response:\n",
    "    messages = [\n",
    "        {\n",
    "            \"role\": \"system\",\n",
    "            \"content\": [{\n",
    "                \"type\": \"text\",\n",
    "                \"text\": SYSTEM_PROMPT_REC\n",
    "            }]\n",
    "        },\n",
    "        {\n",
    "            \"role\": \"user\",\n",
    "            \"content\": [{\n",
    "                \"text\": f\"Codeblocks:\\n{code}\\nVulnerability:{description}\",\n",
    "                \"type\": \"text\"\n",
    "            }]\n",
    "        },\n",
    "    ]\n",
    "    return prompt(messages)"
   ]
  },
  {
   "cell_type": "code",
   "execution_count": null,
   "metadata": {},
   "outputs": [],
   "source": [
    "test_df = test_df[test_df['description'].notnull()]\n",
    "data = test_df[['code', 'description', 'recommendation']]\n",
    "data.loc[:, 'description'] = data['description'].str.replace(r'\\\\n', '\\n', regex=True)"
   ]
  },
  {
   "cell_type": "code",
   "execution_count": null,
   "metadata": {},
   "outputs": [],
   "source": [
    "from tqdm import tqdm\n",
    "import csv\n",
    "total_tokens = 0\n",
    "with open(WORK_DIR / 'recommendations.csv', 'w') as f:\n",
    "    w = csv.writer(f)\n",
    "    w.writerow(['id', 'output', 'real'])\n",
    "    with tqdm(data.iterrows(), total=len(data), desc=\"Processing\", unit=\"row\") as progress_bar:\n",
    "        for idx, row in progress_bar:\n",
    "            r = recommend(row['code'], row['description'])\n",
    "            w.writerow([idx, r.message.replace('\\n', '\\\\n'), row['recommendation']])\n",
    "            total_tokens += r.total_tokens\n",
    "            progress_bar.set_postfix({'total_tokens': total_tokens})"
   ]
  }
 ],
 "metadata": {
  "kernelspec": {
   "display_name": "rl",
   "language": "python",
   "name": "python3"
  },
  "language_info": {
   "codemirror_mode": {
    "name": "ipython",
    "version": 3
   },
   "file_extension": ".py",
   "mimetype": "text/x-python",
   "name": "python",
   "nbconvert_exporter": "python",
   "pygments_lexer": "ipython3",
   "version": "3.11.7"
  }
 },
 "nbformat": 4,
 "nbformat_minor": 2
}
